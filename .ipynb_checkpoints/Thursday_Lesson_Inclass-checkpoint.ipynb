{
 "cells": [
  {
   "cell_type": "markdown",
   "metadata": {},
   "source": [
    "# Object-Oriented-Programming (OOP)"
   ]
  },
  {
   "cell_type": "markdown",
   "metadata": {},
   "source": [
    "## Tasks Today:\n",
    "\n",
    "1) <b>Creating a Class (Initializing/Declaring)</b> <br>\n",
    "2) <b>Using a Class (Instantiating)</b> <br>\n",
    " &nbsp;&nbsp;&nbsp;&nbsp; a) Creating One Instance <br>\n",
    " &nbsp;&nbsp;&nbsp;&nbsp; b) Creating Multiple Instances <br>\n",
    " &nbsp;&nbsp;&nbsp;&nbsp; c) In-Class Exercise #1 - Create a Class 'Car' and instantiate three different makes of cars <br>\n",
    "3) <b>The \\__init\\__() Method</b> <br>\n",
    " &nbsp;&nbsp;&nbsp;&nbsp; a) The 'self' Attribute <br>\n",
    "4) <b>Class Attributes</b> <br>\n",
    " &nbsp;&nbsp;&nbsp;&nbsp; a) Initializing Attributes <br>\n",
    " &nbsp;&nbsp;&nbsp;&nbsp; b) Setting an Attribute Outside of the \\__init\\__() Method <br>\n",
    " &nbsp;&nbsp;&nbsp;&nbsp; c) Setting Defaults for Attributes <br>\n",
    " &nbsp;&nbsp;&nbsp;&nbsp; d) Accessing Class Attributes <br>\n",
    " &nbsp;&nbsp;&nbsp;&nbsp; e) Changing Class Attributes <br>\n",
    " &nbsp;&nbsp;&nbsp;&nbsp; f) In-Class Exercise #2 - Add a color and wheels attribute to your 'Car' class <br>\n",
    "5) <b>Class Methods</b> <br>\n",
    " &nbsp;&nbsp;&nbsp;&nbsp; a) Creating <br>\n",
    " &nbsp;&nbsp;&nbsp;&nbsp; b) Calling <br>\n",
    " &nbsp;&nbsp;&nbsp;&nbsp; c) Modifying an Attribute's Value Through a Method <br>\n",
    " &nbsp;&nbsp;&nbsp;&nbsp; d) Incrementing an Attribute's Value Through a Method <br>\n",
    " &nbsp;&nbsp;&nbsp;&nbsp; e) In-Class Exercise #3 - Add a method that prints the cars color and wheel number, then call them <br>\n",
    "6) <b>Inheritance</b> <br>\n",
    " &nbsp;&nbsp;&nbsp;&nbsp; a) Syntax for Inheriting from a Parent Class <br>\n",
    " &nbsp;&nbsp;&nbsp;&nbsp; b) The \\__init\\__() Method for a Child Class (super()) <br>\n",
    " &nbsp;&nbsp;&nbsp;&nbsp; c) Defining Attributes and Methods for the Child Class <br>\n",
    " &nbsp;&nbsp;&nbsp;&nbsp; d) Method Overriding <br>\n",
    " &nbsp;&nbsp;&nbsp;&nbsp; e) In-Class Exercise #4 - Create a class 'Ford' that inherits from 'Car' class and initialize it as a Blue Ford Explorer with 4 wheels using the super() method <br>\n",
    "7) <b>Classes as Attributes</b> <br>\n",
    "8) <b>Exercises</b> <br>\n",
    " &nbsp;&nbsp;&nbsp;&nbsp; a) Exercise #1 - Turn the shopping cart program from yesterday into an object-oriented program <br>"
   ]
  },
  {
   "cell_type": "markdown",
   "metadata": {},
   "source": [
    "## Creating a Class (Initializing/Declaring)\n",
    "<p>When creating a class, function, or even a variable you are initializing that object. Initializing and Declaring occur at the same time in Python, whereas in lower level languages you have to declare an object before initializing it. This is the first step in the process of using a class.</p>"
   ]
  },
  {
   "cell_type": "code",
   "execution_count": 6,
   "metadata": {},
   "outputs": [],
   "source": [
    "class Car():\n",
    "    wheels = 4\n",
    "    color =\"blue\""
   ]
  },
  {
   "cell_type": "markdown",
   "metadata": {},
   "source": [
    "## Using a Class (Instantiating)\n",
    "<p>The process of creating a class is called <i>Instantiating</i>. Each time you create a variable of that type of class, it is referred to as an <i>Instance</i> of that class. This is the second step in the process of using a class.</p>"
   ]
  },
  {
   "cell_type": "markdown",
   "metadata": {},
   "source": [
    "##### Creating One Instance"
   ]
  },
  {
   "cell_type": "code",
   "execution_count": 7,
   "metadata": {},
   "outputs": [],
   "source": [
    "ford  = Car()"
   ]
  },
  {
   "cell_type": "markdown",
   "metadata": {},
   "source": [
    "##### Creating Multiple Instances"
   ]
  },
  {
   "cell_type": "code",
   "execution_count": 8,
   "metadata": {},
   "outputs": [
    {
     "data": {
      "text/plain": [
       "'blue'"
      ]
     },
     "execution_count": 8,
     "metadata": {},
     "output_type": "execute_result"
    }
   ],
   "source": [
    "chevy = Car()\n",
    "honda = Car()\n",
    "porsche = Car()\n",
    "\n",
    "porsche.color"
   ]
  },
  {
   "cell_type": "code",
   "execution_count": null,
   "metadata": {},
   "outputs": [],
   "source": [
    "##### In-Class Exercise #1 - Create a Class 'Car' and Instantiate three different makes of cars"
   ]
  },
  {
   "cell_type": "code",
   "execution_count": 16,
   "metadata": {},
   "outputs": [
    {
     "name": "stdout",
     "output_type": "stream",
     "text": [
      "black True\n"
     ]
    }
   ],
   "source": [
    "class Car():\n",
    "    interier = \"leather\"\n",
    "    color = \"black\"\n",
    "    design = \"sedan\"\n",
    "    wheels = 4\n",
    "    sunRoof = True\n",
    "\n",
    "    \n",
    "mazda = Car()\n",
    "toyota = Car()\n",
    "citroen = Car()\n",
    "\n",
    "    \n",
    "print(mazda.color, mazda.sunRoof)\n",
    "    \n",
    "    \n",
    "    \n",
    "    \n"
   ]
  },
  {
   "cell_type": "markdown",
   "metadata": {},
   "source": [
    "## The \\__init\\__() Method <br>\n",
    "<p>This method is used in almost every created class, and called only once upon the creation of the class instance. This method will initialize all variables needed for the object.</p>"
   ]
  },
  {
   "cell_type": "code",
   "execution_count": 21,
   "metadata": {},
   "outputs": [
    {
     "data": {
      "text/plain": [
       "4"
      ]
     },
     "execution_count": 21,
     "metadata": {},
     "output_type": "execute_result"
    }
   ],
   "source": [
    "class Car():\n",
    "    engine = \"4.7L\"\n",
    "    \n",
    "    def __init__(self):\n",
    "        self.wheels = 4\n",
    "        self.color = \"Blue\"\n",
    "        \n",
    "ford = Car()\n",
    "ford.wheels\n",
    "\n",
    "#class Toy():\n",
    "    #kind = \"car\"\n",
    "    \n",
    "    #def __init__(self,rooftop, horn, bells):\n",
    "    #self.rooftop = rooftop\n",
    "    #self.horn = horn\n",
    "    #self.bells = bells\n",
    "    \n",
    "#toyota = Toy(1,1,4)\n",
    "#toytota.rooftop\n",
    "#toyota.horn\n",
    "\n",
    "\n",
    "        "
   ]
  },
  {
   "cell_type": "markdown",
   "metadata": {},
   "source": [
    "##### The 'self' Attribute <br>\n",
    "<p>This attribute is required to keep track of specific instance's attributes. Without the self attribute, the program would not know how to reference or keep track of an instance's attributes.</p>"
   ]
  },
  {
   "cell_type": "code",
   "execution_count": null,
   "metadata": {},
   "outputs": [],
   "source": [
    "# see above"
   ]
  },
  {
   "cell_type": "markdown",
   "metadata": {},
   "source": [
    "## Class Attributes <br>\n",
    "<p>While variables are inside of a class, they are referred to as attributes and not variables. When someone says 'attribute' you know they're speaking about a class. Attributes can be initialized through the init method, or outside of it.</p>"
   ]
  },
  {
   "cell_type": "markdown",
   "metadata": {},
   "source": [
    "##### Initializing Attributes"
   ]
  },
  {
   "cell_type": "code",
   "execution_count": null,
   "metadata": {},
   "outputs": [],
   "source": [
    "# see above"
   ]
  },
  {
   "cell_type": "markdown",
   "metadata": {},
   "source": [
    "##### Accessing Class Attributes"
   ]
  },
  {
   "cell_type": "code",
   "execution_count": 22,
   "metadata": {
    "scrolled": true
   },
   "outputs": [
    {
     "data": {
      "text/plain": [
       "'4.7L'"
      ]
     },
     "execution_count": 22,
     "metadata": {},
     "output_type": "execute_result"
    }
   ],
   "source": [
    "class Car():\n",
    "    engine = \"4.7L\"\n",
    "    \n",
    "ford = Car()\n",
    "ford.engine\n"
   ]
  },
  {
   "cell_type": "markdown",
   "metadata": {},
   "source": [
    "##### Setting an Attribute Outside of the \\__init\\__() Method"
   ]
  },
  {
   "cell_type": "code",
   "execution_count": 29,
   "metadata": {},
   "outputs": [
    {
     "name": "stdout",
     "output_type": "stream",
     "text": [
      "4 white 2\n"
     ]
    }
   ],
   "source": [
    "class Pet():\n",
    "    def __init__(self, legs, fur, ears):\n",
    "        self.legs = legs\n",
    "        self.fur = fur\n",
    "        self.ears = ears\n",
    "        \n",
    "dog = Pet(4,\"white\",2)\n",
    "\n",
    "print(dog.legs, dog.fur, dog.ears)\n"
   ]
  },
  {
   "cell_type": "markdown",
   "metadata": {},
   "source": [
    "##### Setting Defaults for Attributes"
   ]
  },
  {
   "cell_type": "code",
   "execution_count": 33,
   "metadata": {},
   "outputs": [
    {
     "data": {
      "text/plain": [
       "'goat'"
      ]
     },
     "execution_count": 33,
     "metadata": {},
     "output_type": "execute_result"
    }
   ],
   "source": [
    "class Yogort():\n",
    "    smell = \"feet\"\n",
    "    \n",
    "    def __init__(self):\n",
    "        self.color = \"white\"\n",
    "        self.fruit = \"durian\"\n",
    "        self.granola = \"Oat\"\n",
    "        self.taste = \"goat\"\n",
    "        \n",
    "chobani = Yogort()\n",
    "chobani.taste\n"
   ]
  },
  {
   "cell_type": "markdown",
   "metadata": {},
   "source": [
    "##### Changing Class Attributes <br>\n",
    "<p>Keep in mind there are global class attributes and then there are attributes only available to each class instance which won't effect other classes.</p>"
   ]
  },
  {
   "cell_type": "code",
   "execution_count": 36,
   "metadata": {},
   "outputs": [
    {
     "name": "stdout",
     "output_type": "stream",
     "text": [
      "roses\n",
      "banana\n"
     ]
    }
   ],
   "source": [
    "chobani.smell\n",
    "chobani.smell = \"roses\"\n",
    "print(chobani.smell)\n",
    "\n",
    "chobani.fruit\n",
    "chobani.fruit = \"banana\"\n",
    "print(chobani.fruit)\n"
   ]
  },
  {
   "cell_type": "code",
   "execution_count": null,
   "metadata": {},
   "outputs": [],
   "source": []
  },
  {
   "cell_type": "markdown",
   "metadata": {},
   "source": [
    "##### In-Class Exercise #2 - Add a doors and seats attribute to your 'Car' class then print out two different instances with different doors and seats"
   ]
  },
  {
   "cell_type": "code",
   "execution_count": 14,
   "metadata": {},
   "outputs": [
    {
     "name": "stdout",
     "output_type": "stream",
     "text": [
      "4 5\n",
      "2 2\n"
     ]
    }
   ],
   "source": [
    "class Car():\n",
    "        \n",
    "    def __init__(self,doors, seats):\n",
    "        self.doors = doors\n",
    "        self.seats = seats\n",
    "      \n",
    "    \n",
    "honda_CRV = Car(4,5)\n",
    "tesla_roadster = Car(2,2)\n",
    "\n",
    "print(honda_CRV.doors, honda_CRV.seats)\n",
    "print(tesla_roadster.doors, tesla_roadster.seats) \n",
    "    \n"
   ]
  },
  {
   "cell_type": "markdown",
   "metadata": {},
   "source": [
    "## Class Methods <br>\n",
    "<p>While inside of a class, functions are referred to as 'methods'. If you hear someone mention methods, they're speaking about classes. Methods are essentially functions, but only callable on the instances of a class.</p>"
   ]
  },
  {
   "cell_type": "markdown",
   "metadata": {},
   "source": [
    "##### Creating"
   ]
  },
  {
   "cell_type": "code",
   "execution_count": 60,
   "metadata": {},
   "outputs": [
    {
     "name": "stdout",
     "output_type": "stream",
     "text": [
      "You have items in your bag!\n",
      "What would you like to add?milk\n",
      "You have items in your bag!\n",
      "milk\n"
     ]
    }
   ],
   "source": [
    "class ShoppingBag():\n",
    "    def __init__(self,handles,capacity,items):\n",
    "        self.handles = handles\n",
    "        self.capacity = capacity\n",
    "        self.items = items\n",
    "        \n",
    "    def showShoppingBag(self):\n",
    "        print(\"You have items in your bag!\")\n",
    "        for i in self.items:\n",
    "            print(i)\n",
    "            \n",
    "            \n",
    "    def showCapacity(self):\n",
    "        print(\"Your capacity is {}\".format(self.capacity))\n",
    "        \n",
    "    def addToShoppingBag(self):\n",
    "        products = input(\"What would you like to add?\")\n",
    "        self.items.append(products)\n",
    "        \n",
    "    def changeBagCapacity(self, capacity):\n",
    "        self.capacity = capacity\n",
    "        \n",
    "    def increaseCapacity(self):\n",
    "        if self.capacity == isinstance(self.capacity,str):\n",
    "            print(\"Can't do that here...\")\n",
    "        else:\n",
    "            self.capacity += 10\n",
    "            \n",
    "            \n",
    "aldi_bag = ShoppingBag(2, \"Large\",[])\n",
    "\n",
    "aldi_bag.showShoppingBag()\n",
    "aldi_bag.addToShoppingBag()\n",
    "aldi_bag.showShoppingBag()\n",
    "\n"
   ]
  },
  {
   "cell_type": "markdown",
   "metadata": {},
   "source": [
    "##### Calling"
   ]
  },
  {
   "cell_type": "code",
   "execution_count": null,
   "metadata": {},
   "outputs": [],
   "source": []
  },
  {
   "cell_type": "markdown",
   "metadata": {},
   "source": [
    "##### Modifying an Attribute's Value Through a Method"
   ]
  },
  {
   "cell_type": "code",
   "execution_count": 5,
   "metadata": {},
   "outputs": [
    {
     "name": "stdout",
     "output_type": "stream",
     "text": [
      "Your capacity is Medium\n",
      "Capacity after change...\n",
      "Your capacity is Medium\n"
     ]
    }
   ],
   "source": [
    "aldi_bag.showCapacity()\n",
    "print(\"Capacity after change...\")\n",
    "aldi_bag.changeBagCapacity(\"Medium\")\n",
    "aldi_bag.showCapacity()\n"
   ]
  },
  {
   "cell_type": "markdown",
   "metadata": {},
   "source": [
    "##### Incrementing an Attribute's Value Through a Method"
   ]
  },
  {
   "cell_type": "code",
   "execution_count": 8,
   "metadata": {},
   "outputs": [
    {
     "name": "stdout",
     "output_type": "stream",
     "text": [
      "Your capacity is 20\n"
     ]
    }
   ],
   "source": [
    "# proper way of incrementing an attribute\n",
    "menards_bag = ShoppingBag(2,10,[])\n",
    "menards_bag.increaseCapacity()\n",
    "menards_bag.showCapacity()"
   ]
  },
  {
   "cell_type": "markdown",
   "metadata": {},
   "source": [
    "##### In-Class Exercise #3 - Add a method that takes in three parameters of year, doors and seats and prints out a formatted print statement with make, model, year, seats, and doors"
   ]
  },
  {
   "cell_type": "code",
   "execution_count": 31,
   "metadata": {},
   "outputs": [
    {
     "name": "stdout",
     "output_type": "stream",
     "text": [
      "This car is from 2019 and has ford doors and Explorer seats\n"
     ]
    }
   ],
   "source": [
    "#  \n",
    "class Car():\n",
    "        \n",
    "    def __init__(self,make, model):\n",
    "        self.make = make\n",
    "        self.model = model\n",
    "        \n",
    "    def printInfo(self, year, doors, seats):\n",
    "        print(\"This car is from {} and has {} doors and {} seats\".format(year,self.make,self.model,doors, seats)) \n",
    "    \n",
    "\n",
    "ford = Car(\"ford\", \"Explorer\")\n",
    "ford.printInfo(\"2019\", 4,5)\n",
    "\n"
   ]
  },
  {
   "cell_type": "raw",
   "metadata": {},
   "source": [
    "## Inheritance <br>\n",
    "<p>You can create a child-parent relationship between two classes by using inheritance. What this allows you to do is have overriding methods, but also inherit traits from the parent class. Think of it as an actual parent and child, the child will inherit the parent's genes, as will the classes in OOP</p>"
   ]
  },
  {
   "cell_type": "code",
   "execution_count": null,
   "metadata": {},
   "outputs": [],
   "source": [
    "##### Syntax for Inheriting from a Parent Class"
   ]
  },
  {
   "cell_type": "code",
   "execution_count": 33,
   "metadata": {},
   "outputs": [
    {
     "name": "stdout",
     "output_type": "stream",
     "text": [
      "This dog is Black and his name is Max\n"
     ]
    }
   ],
   "source": [
    "class Animal():\n",
    "    enginie = 4\n",
    "    \n",
    "    def __init__(self, name,species,legs=4):\n",
    "        self.name = name\n",
    "        self.species = species\n",
    "        self.legs = legs\n",
    "        \n",
    "    def makeSound(self):\n",
    "        print(\"Some Generic Sound\")\n",
    "        \n",
    "class Dog(Animal):\n",
    "    speed = 15\n",
    "    \n",
    "    def __init__(self, name, species, color, legs=4):\n",
    "        Animal.__init__(self,name, species, legs)\n",
    "        self.color = color\n",
    "        \n",
    "    def makeSound(self):\n",
    "        print(\"Break\")\n",
    "        \n",
    "    def printInfo(self):\n",
    "        print(\"This dog is {} and his name is {}\".format(self.color, self.name))\n",
    "        \n",
    "cat = Animal(\"Fat Cat\", \"Feline\")\n",
    "dog = Dog(\"Max\",\"Canine\",\"Black\")\n",
    "\n",
    "dog.printInfo()\n",
    "        "
   ]
  },
  {
   "cell_type": "markdown",
   "metadata": {},
   "source": [
    "##### The \\__init\\__() Method for a Child Class - super()"
   ]
  },
  {
   "cell_type": "code",
   "execution_count": 61,
   "metadata": {
    "scrolled": true
   },
   "outputs": [
    {
     "name": "stdout",
     "output_type": "stream",
     "text": [
      "This dog is Black and his name is Max\n",
      "Some Generic Sound\n",
      "Bark\n"
     ]
    }
   ],
   "source": [
    "class Animal():\n",
    "    acceleration = 9.8\n",
    "    \n",
    "    def __init__(self, name,species,legs=4):\n",
    "        self.name = name\n",
    "        self.species = species\n",
    "        self.legs = legs\n",
    "        \n",
    "    def makeSound(self):\n",
    "        print(\"Some Generic Sound\")\n",
    "        \n",
    "class Dog(Animal):\n",
    "    speed = 15\n",
    "    \n",
    "    def __init__(self, name, species, color, legs=4):\n",
    "        super().__init__(name, species, legs)\n",
    "        self.color = color\n",
    "        \n",
    "    def makeSound(self):\n",
    "        print(\"Bark\")\n",
    "        \n",
    "    def printInfo(self):\n",
    "        print(\"This dog is {} and his name is {}\".format(self.color, self.name))\n",
    "        \n",
    "        \n",
    "cat = Animal(\"Fat Cat\", \"Feline\")\n",
    "dog = Dog(\"Max\",\"Canine\",\"Black\")\n",
    "\n",
    "dog.printInfo()\n",
    "\n",
    "cat.makeSound()\n",
    "\n",
    "dog.makeSound()\n",
    "        "
   ]
  },
  {
   "cell_type": "code",
   "execution_count": null,
   "metadata": {},
   "outputs": [],
   "source": [
    "\n",
    "        "
   ]
  },
  {
   "cell_type": "code",
   "execution_count": 56,
   "metadata": {},
   "outputs": [
    {
     "name": "stdout",
     "output_type": "stream",
     "text": [
      "this is car\n",
      "This car is Blue Ford Explorer and has 4 wheels\n"
     ]
    }
   ],
   "source": [
    "class Auto():\n",
    "    doors = 4\n",
    "    \n",
    "    def __init__(self, model,color):\n",
    "        self.model = model\n",
    "        self.color = color\n",
    "        \n",
    "\n",
    "        \n",
    "class Car(Auto):\n",
    "    year = 2019\n",
    "    \n",
    "    def __init__(self, model,color, wheels,):\n",
    "        super().__init__(model,color,)\n",
    "        self.wheels = wheels\n",
    "        \n",
    "    def thisIsNote(self):\n",
    "        print(\"this is car\")\n",
    "        \n",
    "    def printInfo(self):\n",
    "        print(\"This car is {} Ford {} and has {} wheels\".format(self.wheels,self.color,self.model))\n",
    "        \n",
    "        \n",
    "\n",
    "car = Car(4,\"Explorer\",\"Blue\")\n",
    "\n",
    "\n",
    "car.thisIsNote()\n",
    "        \n",
    "car.printInfo()       "
   ]
  },
  {
   "cell_type": "markdown",
   "metadata": {},
   "source": [
    "##### Defining Attributes and Methods for the Child Class"
   ]
  },
  {
   "cell_type": "code",
   "execution_count": null,
   "metadata": {},
   "outputs": [],
   "source": [
    "# see above"
   ]
  },
  {
   "cell_type": "markdown",
   "metadata": {},
   "source": [
    "##### Method Overriding"
   ]
  },
  {
   "cell_type": "code",
   "execution_count": null,
   "metadata": {},
   "outputs": [],
   "source": [
    "# see above"
   ]
  },
  {
   "cell_type": "markdown",
   "metadata": {},
   "source": [
    "##### In-Class Exercise #4 - Create a class 'Ford' that inherits from 'Car' class and initialize it as a Blue Ford Explorer with 4 wheels using the super() method, add a method to car which prints 'this is a car' and create an overriding method in class Ford that prints the information on the car"
   ]
  },
  {
   "cell_type": "code",
   "execution_count": 63,
   "metadata": {},
   "outputs": [
    {
     "name": "stdout",
     "output_type": "stream",
     "text": [
      "this is car\n",
      "This car is Blue Ford Explorer and has 4 wheels.\n"
     ]
    }
   ],
   "source": [
    "# do homework\n",
    "\n",
    "class Auto():\n",
    "    doors = 4\n",
    "    \n",
    "    def __init__(self, model,color):\n",
    "        self.model = model\n",
    "        self.color = color\n",
    "        \n",
    "        \n",
    "class Car(Auto):\n",
    "    year = 2019\n",
    "    \n",
    "    def __init__(self, model,color, wheels,):\n",
    "        super().__init__(model,color,)\n",
    "        self.wheels = wheels\n",
    "        \n",
    "    def thisIsNote(self):\n",
    "        print(\"this is car\")\n",
    "        \n",
    "    def printInfo(self):\n",
    "        print(\"This car is {} Ford {} and has {} wheels.\".format(self.wheels,self.color,self.model))\n",
    "        \n",
    "        \n",
    "\n",
    "car = Car(4,\"Explorer\",\"Blue\")\n",
    "\n",
    "\n",
    "car.thisIsNote()\n",
    "        \n",
    "car.printInfo()       "
   ]
  },
  {
   "cell_type": "markdown",
   "metadata": {},
   "source": [
    "## Classes as Attributes <br>\n",
    "<p>Classes can also be used as attributes within another class. This is useful in situations where you need to keep variables locally stored, instead of globally stored.</p>"
   ]
  },
  {
   "cell_type": "code",
   "execution_count": 39,
   "metadata": {},
   "outputs": [
    {
     "name": "stdout",
     "output_type": "stream",
     "text": [
      "6\n"
     ]
    }
   ],
   "source": [
    "class Battery():\n",
    "    volts = 7.8\n",
    "    \n",
    "    def __init__(self,cells):\n",
    "        self.cells = cells\n",
    "        \n",
    "class Car():\n",
    "    def __init__(self,year,make,model,battery):\n",
    "        self.year = year\n",
    "        self.make = make\n",
    "        self.model = model\n",
    "        self.battery = battery\n",
    "        \n",
    "bat = Battery(6)\n",
    "\n",
    "tesla =Car(2019, \"Tesla\", \"Model X\", bat)\n",
    "\n",
    "print(tesla.battery.cells)\n",
    "\n"
   ]
  },
  {
   "cell_type": "markdown",
   "metadata": {},
   "source": [
    "# Exercises"
   ]
  },
  {
   "cell_type": "markdown",
   "metadata": {},
   "source": [
    "### Exercise 1 - Turn the shopping cart program from yesterday into an object-oriented program\n",
    "\n",
    "The comments in the cell below are there as a guide for thinking about the problem. However, if you feel a different way is best for you and your own thought process, please do what feels best for you by all means."
   ]
  },
  {
   "cell_type": "code",
   "execution_count": 66,
   "metadata": {},
   "outputs": [
    {
     "ename": "IndentationError",
     "evalue": "expected an indented block (<ipython-input-66-dddef645589a>, line 39)",
     "output_type": "error",
     "traceback": [
      "\u001b[1;36m  File \u001b[1;32m\"<ipython-input-66-dddef645589a>\"\u001b[1;36m, line \u001b[1;32m39\u001b[0m\n\u001b[1;33m    shopping_list = Cart(\"opopop\")\u001b[0m\n\u001b[1;37m                                  ^\u001b[0m\n\u001b[1;31mIndentationError\u001b[0m\u001b[1;31m:\u001b[0m expected an indented block\n"
     ]
    }
   ],
   "source": [
    "# have a class called cart that retains items and has methods to add, remove, and show\n",
    "\n",
    "# step #1: create the cart class\n",
    "class Cart():\n",
    "    def __init__(self,items):\n",
    "        self.items = items\n",
    "    # when instantiated, cart object should define empty list for items\n",
    "    \n",
    "        \n",
    "    # create a method to show cart\n",
    "    def showCart(self):\n",
    "        print(\"You have items in your cart!\")\n",
    "        for i in self.items:\n",
    "            print(i)  \n",
    "            \n",
    "    # create a method to add to cart\n",
    "    def addCart(self):\n",
    "        products = input(\"What would you like to add?\")\n",
    "        self.items.append(products)\n",
    "        \n",
    "    # create a method to remove from cart\n",
    "    \n",
    "            \n",
    "    # create instance of cart object with empty list        \n",
    "\n",
    "\n",
    "    # start the while loop until user quits\n",
    "\n",
    "    # ask for input\n",
    "    def askInPut(self):\n",
    "        qestion = input(\"\")\n",
    "      \n",
    "    # ask if they would like to add, remove, show, perform steps using cart methods\n",
    "    def optionsCart(self):\n",
    "        items = input(\"Whould you like to add/remove/show to the cart?\")\n",
    "        self.items.append(items)   \n",
    "            \n",
    "            \n",
    "\n",
    "\n",
    "       \n",
    "\n"
   ]
  },
  {
   "cell_type": "code",
   "execution_count": null,
   "metadata": {},
   "outputs": [],
   "source": []
  }
 ],
 "metadata": {
  "kernelspec": {
   "display_name": "Python 3",
   "language": "python",
   "name": "python3"
  },
  "language_info": {
   "codemirror_mode": {
    "name": "ipython",
    "version": 3
   },
   "file_extension": ".py",
   "mimetype": "text/x-python",
   "name": "python",
   "nbconvert_exporter": "python",
   "pygments_lexer": "ipython3",
   "version": "3.7.3"
  }
 },
 "nbformat": 4,
 "nbformat_minor": 2
}
